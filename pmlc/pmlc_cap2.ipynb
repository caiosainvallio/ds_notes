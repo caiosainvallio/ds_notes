{
 "cells": [
  {
   "cell_type": "markdown",
   "metadata": {},
   "source": [
    "# Python Machine Learning Cookbook¶\n",
    "__Tanscrição de capítulos para o Português para estudo e uso como referência__\n",
    "\n",
    "Uso pessoal @caiosainvallio"
   ]
  },
  {
   "cell_type": "markdown",
   "metadata": {},
   "source": [
    "# Capítulo 2\n",
    "\n",
    "# Carregar Dados"
   ]
  },
  {
   "cell_type": "markdown",
   "metadata": {},
   "source": [
    "# 2.1 Carregar um Dataset de Amostra\n",
    "## Problema\n",
    "Preciso de um dataset preexistente para estudar.\n",
    "## Solução\n",
    "O Scikit-learn vem com vários datasets para serem usados:"
   ]
  },
  {
   "cell_type": "code",
   "execution_count": 1,
   "metadata": {},
   "outputs": [
    {
     "data": {
      "text/plain": [
       "array([ 0.,  0.,  5., 13.,  9.,  1.,  0.,  0.,  0.,  0., 13., 15., 10.,\n",
       "       15.,  5.,  0.,  0.,  3., 15.,  2.,  0., 11.,  8.,  0.,  0.,  4.,\n",
       "       12.,  0.,  0.,  8.,  8.,  0.,  0.,  5.,  8.,  0.,  0.,  9.,  8.,\n",
       "        0.,  0.,  4., 11.,  0.,  1., 12.,  7.,  0.,  0.,  2., 14.,  5.,\n",
       "       10., 12.,  0.,  0.,  0.,  0.,  6., 13., 10.,  0.,  0.,  0.])"
      ]
     },
     "execution_count": 1,
     "metadata": {},
     "output_type": "execute_result"
    }
   ],
   "source": [
    "# Carregar dataset do scikit-learn\n",
    "from sklearn import datasets\n",
    "\n",
    "# Carregar o dataset digitos\n",
    "digitos = datasets.load_digits()\n",
    "\n",
    "# Criar uma matriz de features\n",
    "features = digitos.data\n",
    "\n",
    "# Criar um vetor de target\n",
    "target = digitos.target\n",
    "\n",
    "# Ver as primeiras observações\n",
    "features[0]"
   ]
  },
  {
   "cell_type": "markdown",
   "metadata": {},
   "source": [
    "## Discussão\n",
    "Esses datasets são pequenos e já estão 'limpos', usados geralmente para estudar modelagem. Para mais informações [scikit-learn toy dataset](https://scikit-learn.org/stable/datasets/index.html)"
   ]
  },
  {
   "cell_type": "markdown",
   "metadata": {},
   "source": [
    "---"
   ]
  },
  {
   "cell_type": "markdown",
   "metadata": {},
   "source": [
    "# 2.2 Simular Dataset\n",
    "## Problema\n",
    "Preciso gerar um dataset com dados simulados.\n",
    "## Solução\n",
    "O scikit-leanr oferece diversas maneiras de criar dados simulados, o que é bastante útil:"
   ]
  },
  {
   "cell_type": "markdown",
   "metadata": {},
   "source": [
    "### 2.2.1 Dados para regressão"
   ]
  },
  {
   "cell_type": "code",
   "execution_count": 2,
   "metadata": {},
   "outputs": [
    {
     "name": "stdout",
     "output_type": "stream",
     "text": [
      "Matriz de feature\n",
      "[[ 1.29322588 -0.61736206 -0.11044703]\n",
      " [-2.793085    0.36633201  1.93752881]\n",
      " [ 0.80186103 -0.18656977  0.0465673 ]]\n",
      "Vetor de target\n",
      "[-10.37865986  25.5124503   19.67705609]\n"
     ]
    }
   ],
   "source": [
    "# Carregar pacote\n",
    "from sklearn.datasets import make_regression\n",
    "\n",
    "# Gerar matriz de feature, vetor de target e coeficientes\n",
    "features, target, coefficients = make_regression(n_samples=100, \n",
    "                                                 n_features=3, \n",
    "                                                 n_informative=3, \n",
    "                                                 n_targets=1, \n",
    "                                                 noise=0.0,\n",
    "                                                 coef=True, \n",
    "                                                 random_state=1)\n",
    "\n",
    "# Ver a matriz de features e vetor de target\n",
    "print(f'Matriz de feature\\n{features[:3]}')\n",
    "print(f'Vetor de target\\n{target[:3]}')"
   ]
  },
  {
   "cell_type": "markdown",
   "metadata": {},
   "source": [
    "### 2.2.2 Dados para classificação"
   ]
  },
  {
   "cell_type": "code",
   "execution_count": 3,
   "metadata": {},
   "outputs": [
    {
     "name": "stdout",
     "output_type": "stream",
     "text": [
      "Matriz de feature\n",
      "[[ 1.06354768 -1.42632219  1.02163151]\n",
      " [ 0.23156977  1.49535261  0.33251578]\n",
      " [ 0.15972951  0.83533515 -0.40869554]]\n",
      "Vetor de target\n",
      "[1 0 0]\n"
     ]
    }
   ],
   "source": [
    "# Carregar pacote\n",
    "from sklearn.datasets import make_classification\n",
    "\n",
    "# Gerar matriz de feature e vetor de target\n",
    "features, target = make_classification(n_samples=100,\n",
    "                                       n_features=3,\n",
    "                                       n_informative=3,\n",
    "                                       n_redundant=0,\n",
    "                                       n_classes=2,\n",
    "                                       weights=[.25, .75],\n",
    "                                       random_state=1)\n",
    "\n",
    "# Ver a matriz de features e vetor de target\n",
    "print(f'Matriz de feature\\n{features[:3]}')\n",
    "print(f'Vetor de target\\n{target[:3]}')"
   ]
  },
  {
   "cell_type": "markdown",
   "metadata": {},
   "source": [
    "### 2.2.3 Dados para clusterização"
   ]
  },
  {
   "cell_type": "code",
   "execution_count": 4,
   "metadata": {},
   "outputs": [
    {
     "name": "stdout",
     "output_type": "stream",
     "text": [
      "Matriz de feature\n",
      "[[ -1.22685609   3.25572052]\n",
      " [ -9.57463218  -4.38310652]\n",
      " [-10.71976941  -4.20558148]]\n",
      "Vetor de target\n",
      "[0 1 1]\n"
     ]
    }
   ],
   "source": [
    "# Carregar pacote\n",
    "from sklearn.datasets import make_blobs\n",
    "\n",
    "# Gerar matriz de feature e vetor de target\n",
    "features, target = make_blobs(n_samples=100,\n",
    "                              n_features=2, \n",
    "                              centers=3, \n",
    "                              cluster_std=0.5, \n",
    "                              shuffle=True, \n",
    "                              random_state=1)\n",
    "\n",
    "# Ver a matriz de features e vetor de target\n",
    "print(f'Matriz de feature\\n{features[:3]}')\n",
    "print(f'Vetor de target\\n{target[:3]}')"
   ]
  },
  {
   "cell_type": "markdown",
   "metadata": {},
   "source": [
    "---"
   ]
  },
  {
   "cell_type": "markdown",
   "metadata": {},
   "source": [
    "# 2.3 Carregar Arquivos CSV\n",
    "## Problema\n",
    "Preciso importar um arquivo CSV.\n",
    "## Solução\n",
    "Usar `read_csv` do pandas:"
   ]
  },
  {
   "cell_type": "code",
   "execution_count": 5,
   "metadata": {},
   "outputs": [
    {
     "data": {
      "text/html": [
       "<div>\n",
       "<style scoped>\n",
       "    .dataframe tbody tr th:only-of-type {\n",
       "        vertical-align: middle;\n",
       "    }\n",
       "\n",
       "    .dataframe tbody tr th {\n",
       "        vertical-align: top;\n",
       "    }\n",
       "\n",
       "    .dataframe thead th {\n",
       "        text-align: right;\n",
       "    }\n",
       "</style>\n",
       "<table border=\"1\" class=\"dataframe\">\n",
       "  <thead>\n",
       "    <tr style=\"text-align: right;\">\n",
       "      <th></th>\n",
       "      <th>id</th>\n",
       "      <th>name</th>\n",
       "      <th>host_id</th>\n",
       "      <th>host_name</th>\n",
       "      <th>neighbourhood_group</th>\n",
       "      <th>neighbourhood</th>\n",
       "      <th>latitude</th>\n",
       "      <th>longitude</th>\n",
       "      <th>room_type</th>\n",
       "      <th>price</th>\n",
       "      <th>minimum_nights</th>\n",
       "      <th>number_of_reviews</th>\n",
       "      <th>last_review</th>\n",
       "      <th>reviews_per_month</th>\n",
       "      <th>calculated_host_listings_count</th>\n",
       "      <th>availability_365</th>\n",
       "    </tr>\n",
       "  </thead>\n",
       "  <tbody>\n",
       "    <tr>\n",
       "      <th>0</th>\n",
       "      <td>155220</td>\n",
       "      <td>Stockholm, new spacoius villa</td>\n",
       "      <td>746396</td>\n",
       "      <td>Madeleine</td>\n",
       "      <td>NaN</td>\n",
       "      <td>Skarpnäcks</td>\n",
       "      <td>59.24667</td>\n",
       "      <td>18.17799</td>\n",
       "      <td>Entire home/apt</td>\n",
       "      <td>1200</td>\n",
       "      <td>3</td>\n",
       "      <td>0</td>\n",
       "      <td>NaN</td>\n",
       "      <td>NaN</td>\n",
       "      <td>2</td>\n",
       "      <td>0</td>\n",
       "    </tr>\n",
       "    <tr>\n",
       "      <th>1</th>\n",
       "      <td>155685</td>\n",
       "      <td>Hornstull with water view!</td>\n",
       "      <td>748592</td>\n",
       "      <td>Robert</td>\n",
       "      <td>NaN</td>\n",
       "      <td>Södermalms</td>\n",
       "      <td>59.31535</td>\n",
       "      <td>18.03277</td>\n",
       "      <td>Entire home/apt</td>\n",
       "      <td>3184</td>\n",
       "      <td>4</td>\n",
       "      <td>22</td>\n",
       "      <td>2015-12-01</td>\n",
       "      <td>0.21</td>\n",
       "      <td>1</td>\n",
       "      <td>0</td>\n",
       "    </tr>\n",
       "  </tbody>\n",
       "</table>\n",
       "</div>"
      ],
      "text/plain": [
       "       id                           name  host_id  host_name  \\\n",
       "0  155220  Stockholm, new spacoius villa   746396  Madeleine   \n",
       "1  155685     Hornstull with water view!   748592     Robert   \n",
       "\n",
       "   neighbourhood_group neighbourhood  latitude  longitude        room_type  \\\n",
       "0                  NaN    Skarpnäcks  59.24667   18.17799  Entire home/apt   \n",
       "1                  NaN    Södermalms  59.31535   18.03277  Entire home/apt   \n",
       "\n",
       "   price  minimum_nights  number_of_reviews last_review  reviews_per_month  \\\n",
       "0   1200               3                  0         NaN                NaN   \n",
       "1   3184               4                 22  2015-12-01               0.21   \n",
       "\n",
       "   calculated_host_listings_count  availability_365  \n",
       "0                               2                 0  \n",
       "1                               1                 0  "
      ]
     },
     "execution_count": 5,
     "metadata": {},
     "output_type": "execute_result"
    }
   ],
   "source": [
    "# Carregar pacote\n",
    "import pandas as pd\n",
    "\n",
    "# Criar uma URL\n",
    "url = 'http://data.insideairbnb.com/sweden/stockholms-l%C3%A4n/stockholm/2020-02-28/visualisations/listings.csv'\n",
    "\n",
    "# Carregar o dataset\n",
    "dataframe = pd.read_csv(url)\n",
    "\n",
    "# Ver as primeiras duas linhas\n",
    "dataframe.head(2)"
   ]
  },
  {
   "cell_type": "markdown",
   "metadata": {},
   "source": [
    "## Discussão\n",
    "Esse framework é o mesmo para:\n",
    "* Arquivos Excel: `read_excel`\n",
    "* Arquivos JSON: `read_json`"
   ]
  },
  {
   "cell_type": "markdown",
   "metadata": {},
   "source": [
    "---\n",
    "---"
   ]
  }
 ],
 "metadata": {
  "kernelspec": {
   "display_name": "Python 3",
   "language": "python",
   "name": "python3"
  },
  "language_info": {
   "codemirror_mode": {
    "name": "ipython",
    "version": 3
   },
   "file_extension": ".py",
   "mimetype": "text/x-python",
   "name": "python",
   "nbconvert_exporter": "python",
   "pygments_lexer": "ipython3",
   "version": "3.7.3"
  }
 },
 "nbformat": 4,
 "nbformat_minor": 2
}
